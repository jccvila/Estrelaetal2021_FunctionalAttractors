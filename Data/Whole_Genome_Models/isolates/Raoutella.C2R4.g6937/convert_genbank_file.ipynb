{
 "cells": [
  {
   "cell_type": "code",
   "execution_count": 40,
   "metadata": {},
   "outputs": [],
   "source": [
    "from Bio import SeqIO\n",
    "import sys, os\n",
    "from Bio import GenBank, SeqIO"
   ]
  },
  {
   "cell_type": "code",
   "execution_count": 41,
   "metadata": {},
   "outputs": [
    {
     "name": "stdout",
     "output_type": "stream",
     "text": [
      "Dealing with GenBank record contig-100_0\n",
      "Dealing with GenBank record contig-100_1\n",
      "Dealing with GenBank record contig-100_2\n",
      "Dealing with GenBank record contig-100_3\n",
      "Dealing with GenBank record contig-100_4\n",
      "Dealing with GenBank record contig-100_5\n",
      "Dealing with GenBank record contig-100_6\n",
      "Dealing with GenBank record contig-100_7\n",
      "Dealing with GenBank record contig-100_8\n",
      "Dealing with GenBank record contig-100_9\n",
      "Dealing with GenBank record contig-100_10\n",
      "Dealing with GenBank record contig-100_11\n",
      "Dealing with GenBank record contig-100_12\n",
      "Dealing with GenBank record contig-100_13\n",
      "Dealing with GenBank record contig-100_14\n",
      "Dealing with GenBank record contig-100_15\n",
      "Dealing with GenBank record contig-100_16\n",
      "Dealing with GenBank record contig-100_17\n",
      "Dealing with GenBank record contig-100_18\n",
      "Dealing with GenBank record contig-100_19\n",
      "Dealing with GenBank record contig-100_20\n",
      "Dealing with GenBank record contig-100_21\n",
      "Dealing with GenBank record contig-100_22\n",
      "Dealing with GenBank record contig-100_23\n",
      "Dealing with GenBank record contig-100_24\n",
      "Dealing with GenBank record contig-100_25\n",
      "Dealing with GenBank record contig-100_26\n",
      "Dealing with GenBank record contig-100_27\n",
      "Dealing with GenBank record contig-100_28\n",
      "Dealing with GenBank record contig-100_29\n",
      "Dealing with GenBank record contig-100_30\n",
      "Dealing with GenBank record contig-100_31\n",
      "Dealing with GenBank record contig-100_32\n",
      "Dealing with GenBank record contig-100_33\n",
      "Dealing with GenBank record contig-100_34\n",
      "Dealing with GenBank record contig-100_35\n",
      "Dealing with GenBank record contig-100_36\n",
      "Dealing with GenBank record contig-100_37\n",
      "Dealing with GenBank record contig-100_38\n",
      "Dealing with GenBank record contig-100_39\n"
     ]
    }
   ],
   "source": [
    "idx = 0;\n",
    "gbk_filename = \"KBase_derived_g6937.gbff\"\n",
    "input_handle  = open(gbk_filename, \"r\")\n",
    "\n",
    "\n",
    "\n",
    "with open(\"g6937.proteins.faa\", \"w\") as aa_output:\n",
    "    for seq_record in SeqIO.parse(input_handle, \"genbank\") :\n",
    "        print(\"Dealing with GenBank record %s\" % seq_record.id)\n",
    "        for seq_feature in seq_record.features:\n",
    "            if seq_feature.type==\"CDS\" :\n",
    "                #feats = [x for x in list(seq_feature.qualifiers) if x not in ['translation']];\n",
    "                #if 'gene_synonym' in feats:\n",
    "                #    name = seq_record.id + \";\" + \";\".join(seq_feature.qualifiers['gene_synonym']) + ';' + seq_feature.qualifiers['product'][0];\n",
    "                #else:\n",
    "                #    name = seq_record.id + \";\" + seq_feature.qualifiers['product'][0];\n",
    "                \n",
    "                name = seq_record.id + '_' + str(idx);\n",
    "                idx = idx+1;\n",
    "                seq = seq_feature.qualifiers['translation'][0]\n",
    "                seqs.append(seq)\n",
    "                names.append(name)\n",
    "                aa_output.write(\">%s\\n%s\\n\" % (name, seq))\n",
    "                \n",
    "input_handle.close();"
   ]
  },
  {
   "cell_type": "code",
   "execution_count": null,
   "metadata": {},
   "outputs": [],
   "source": []
  },
  {
   "cell_type": "code",
   "execution_count": null,
   "metadata": {},
   "outputs": [],
   "source": []
  }
 ],
 "metadata": {
  "kernelspec": {
   "display_name": "Python (metagenomics)",
   "language": "python",
   "name": "metagenomics"
  },
  "language_info": {
   "codemirror_mode": {
    "name": "ipython",
    "version": 3
   },
   "file_extension": ".py",
   "mimetype": "text/x-python",
   "name": "python",
   "nbconvert_exporter": "python",
   "pygments_lexer": "ipython3",
   "version": "3.6.10"
  }
 },
 "nbformat": 4,
 "nbformat_minor": 4
}
